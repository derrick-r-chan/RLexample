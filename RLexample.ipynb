{
 "cells": [
  {
   "cell_type": "code",
   "execution_count": 4,
   "metadata": {},
   "outputs": [],
   "source": [
    "import numpy as np\n",
    "import matplotlib.pyplot as plt\n",
    "import scipy.stats as stat\n",
    "import csv"
   ]
  },
  {
   "cell_type": "markdown",
   "metadata": {},
   "source": [
    "4x4 board, start nw, se reward 1\n",
    "n w s e (0.9)"
   ]
  },
  {
   "cell_type": "code",
   "execution_count": 5,
   "metadata": {},
   "outputs": [],
   "source": [
    "width = 4\n",
    "height = 4\n",
    "fail = 0.3\n",
    "\n",
    "def reward (state):\n",
    "    if state == 15:\n",
    "        return 10\n",
    "    else:\n",
    "        return -1\n",
    "\n",
    "def move (state, choice):\n",
    "    new = state\n",
    "    if state != 15:\n",
    "        if choice == 0:\n",
    "            if state >= width:\n",
    "                new = state - width\n",
    "        elif choice == 1:\n",
    "            if state % width != 0:\n",
    "                new = state - 1\n",
    "        elif choice == 2:\n",
    "            if state < width * (height - 1):\n",
    "                new = state + width\n",
    "        else:\n",
    "            if state % width != width - 1:\n",
    "                new = state + 1\n",
    "    else:\n",
    "        if choice == 0:\n",
    "            new = 3\n",
    "        elif choice == 1:\n",
    "            new = 0\n",
    "        elif choice == 2:\n",
    "            new = 12\n",
    "    return new\n",
    "\n",
    "def action (state, choice):\n",
    "    rng = np.random.random()\n",
    "    if rng < (1 - fail):\n",
    "        return move (state, choice)\n",
    "    elif rng < (1 - fail) + (fail / 3):\n",
    "        return move (state, (choice + 1) % 4)\n",
    "    elif rng < 1 - (fail / 3):\n",
    "        return move (state, (choice + 2) % 4)\n",
    "    else:\n",
    "        return move (state, (choice + 3) % 4)\n",
    "    \n",
    "def argQmax (Q_X):\n",
    "    maxim = max(Q_X)\n",
    "    ind = []\n",
    "    for i in range(0, len(Q_X)):\n",
    "        if maxim == Q_X[i]:\n",
    "            ind.append(i)\n",
    "    return ind[np.random.randint(0, len(ind))]"
   ]
  },
  {
   "cell_type": "code",
   "execution_count": 6,
   "metadata": {},
   "outputs": [
    {
     "name": "stdout",
     "output_type": "stream",
     "text": [
      "[[-0.22709869 -0.05523775  0.39866121  0.74426563]\n",
      " [ 0.93224912  1.70068283  1.76736026  1.98320117]\n",
      " [ 2.99725332  1.64290365  3.82865897  3.81975997]\n",
      " [ 5.10953609  3.6961849   7.21002914  4.73485669]\n",
      " [-0.16586271  1.5723188   1.00421598  2.01315901]\n",
      " [ 2.12679013  1.99215643  3.51946577  3.66417848]\n",
      " [ 5.31511694  4.52520812  5.4255106   6.08810344]\n",
      " [ 5.03446045  5.93255477 13.26860107  8.05271944]\n",
      " [ 0.66343638  2.67750947  3.63242983  4.79921823]\n",
      " [ 2.77544207  5.20937569  7.04820315  5.1523831 ]\n",
      " [ 6.62956652  6.18646568 10.18910269  9.62753473]\n",
      " [10.99676274 11.89318898 22.56045816 14.25587607]\n",
      " [ 5.17164084  4.36940973  4.26537551  6.91442108]\n",
      " [ 6.00004836  8.14425818  8.72186245 11.76877933]\n",
      " [12.08080385 12.22577963 16.30042089 21.60359619]\n",
      " [12.41045043  2.69055191  8.66171934 14.23806904]]\n"
     ]
    }
   ],
   "source": [
    "def QRL (X, A, epsilon, tol_Q, rho_Q, gamma, episodes, ep_len):\n",
    "    \n",
    "    Q = [np.zeros([len(X), len(A)])]\n",
    "\n",
    "    for k in range(1, episodes + 1):\n",
    "        Q.append(Q[k - 1].copy())\n",
    "        state = X[0]\n",
    "        for n in range(0, ep_len):\n",
    "            if np.random.random() > epsilon:\n",
    "                choic = argQmax(Q[k][state])\n",
    "            else:\n",
    "                choic = np.random.randint(0, len(A))\n",
    "            newState = action(state, choic)\n",
    "            r = reward(newState)\n",
    "            # do we need to worry about epsilon-greedy policy for Q values\n",
    "            Q[k][state][choic] += rho_Q * (r + gamma * Q[k][newState][argQmax(Q[k][newState])] - Q[k][state][choic])\n",
    "            state = newState\n",
    "        \n",
    "        if np.absolute(np.subtract(Q[k], Q[k - 1])).sum() < tol_Q:\n",
    "            print(k)\n",
    "            break\n",
    "    \n",
    "    return Q[k]\n",
    "\n",
    "np.random.seed(1)\n",
    "print(QRL([0, 1, 2, 3, 4, 5, 6, 7, 8, 9, 10, 11, 12, 13, 14, 15], [0, 1, 2, 3], 0.3, 0.1, 0.2, 0.8, 1, 1000000))"
   ]
  }
 ],
 "metadata": {
  "kernelspec": {
   "display_name": "Python 3",
   "language": "python",
   "name": "python3"
  },
  "language_info": {
   "codemirror_mode": {
    "name": "ipython",
    "version": 3
   },
   "file_extension": ".py",
   "mimetype": "text/x-python",
   "name": "python",
   "nbconvert_exporter": "python",
   "pygments_lexer": "ipython3",
   "version": "3.13.7"
  }
 },
 "nbformat": 4,
 "nbformat_minor": 2
}
